{
 "cells": [
  {
   "cell_type": "markdown",
   "id": "14eeaaa5",
   "metadata": {},
   "source": [
    "# NER for Extracting Stock Mentions on Reddit\n",
    "\n",
    "## Sentiment Analysis\n",
    "\n",
    "This project is copied and editted from the following project:\n",
    "\n",
    "https://towardsdatascience.com/ner-for-extracting-stock-mentions-on-reddit-aa604e577be"
   ]
  },
  {
   "cell_type": "code",
   "execution_count": 1,
   "id": "fff721c3",
   "metadata": {},
   "outputs": [],
   "source": [
    "import pandas as pd\n",
    "import numpy as np\n",
    "from tqdm import tqdm\n",
    "import flair\n",
    "import ast\n",
    "from pprint import pprint\n",
    "import matplotlib.pyplot as plt\n",
    "\n",
    "tqdm.pandas()"
   ]
  },
  {
   "cell_type": "markdown",
   "id": "b52c7b8c",
   "metadata": {},
   "source": [
    "# Import Sentiment model"
   ]
  },
  {
   "cell_type": "code",
   "execution_count": 2,
   "id": "69854498",
   "metadata": {},
   "outputs": [
    {
     "name": "stdout",
     "output_type": "stream",
     "text": [
      "2022-09-19 10:11:14,085 loading file C:\\Users\\WeiYanPEH\\.flair\\models\\sentiment-en-mix-distillbert_4.pt\n"
     ]
    }
   ],
   "source": [
    "model = flair.models.TextClassifier.load('en-sentiment')"
   ]
  },
  {
   "cell_type": "markdown",
   "id": "842ba381",
   "metadata": {},
   "source": [
    "# Define function to extract Sentiments"
   ]
  },
  {
   "cell_type": "code",
   "execution_count": 3,
   "id": "ec67722d",
   "metadata": {},
   "outputs": [],
   "source": [
    "def get_sentiment(text):\n",
    "    # tokenize input text\n",
    "    sentence = flair.data.Sentence(text)\n",
    "    # make sentiment prediction\n",
    "    model.predict(sentence)\n",
    "    # extract sentiment direction and confidence (label and score) object\n",
    "    sentiment = sentence.labels[0]\n",
    "    return sentiment"
   ]
  },
  {
   "cell_type": "markdown",
   "id": "a8e3ad2a",
   "metadata": {},
   "source": [
    "# Load NER data to perform Sentiments"
   ]
  },
  {
   "cell_type": "code",
   "execution_count": 4,
   "id": "2e8155cf",
   "metadata": {},
   "outputs": [
    {
     "name": "stdout",
     "output_type": "stream",
     "text": [
      "(6197, 15)\n"
     ]
    }
   ],
   "source": [
    "# load data\n",
    "df = pd.read_csv('./data/processed/reddit_all_ner.csv', sep='|')\n",
    "print(df.shape)"
   ]
  },
  {
   "cell_type": "markdown",
   "id": "1f7a3a8a",
   "metadata": {},
   "source": [
    "# Extract Sentiments, and save them\n",
    "This step takes extremely long to run"
   ]
  },
  {
   "cell_type": "code",
   "execution_count": 5,
   "id": "0a05d77f",
   "metadata": {},
   "outputs": [
    {
     "name": "stderr",
     "output_type": "stream",
     "text": [
      "100%|██████████| 6197/6197 [25:47<00:00,  4.01it/s] "
     ]
    },
    {
     "name": "stdout",
     "output_type": "stream",
     "text": [
      "(6197, 16)\n"
     ]
    },
    {
     "name": "stderr",
     "output_type": "stream",
     "text": [
      "\n"
     ]
    }
   ],
   "source": [
    "# get sentiment\n",
    "#df['sentiment'] = df['selftext'].progress_apply(get_sentiment)\n",
    "#print(df.shape)\n",
    "#df.to_csv('./data/processed/reddit_all_ner_sentiments.csv')"
   ]
  },
  {
   "cell_type": "code",
   "execution_count": 24,
   "id": "5202adc5",
   "metadata": {},
   "outputs": [],
   "source": [
    "df = pd.read_csv('./data/processed/reddit_all_ner.csv', sep='|')"
   ]
  },
  {
   "cell_type": "code",
   "execution_count": 6,
   "id": "42e241cf",
   "metadata": {},
   "outputs": [],
   "source": [
    "label_list = [\n",
    "              #'CARDINAL', \n",
    "              #'DATE', \n",
    "              #'EVENT', \n",
    "              #'FAC', \n",
    "              'GPE', \n",
    "              #'LANGUAGE', \n",
    "              #'LAW', \n",
    "              'LOC', \n",
    "              #'MONEY', \n",
    "              'NORP', \n",
    "              #'ORDINAL', \n",
    "              'ORG', \n",
    "              #'PERCENT', \n",
    "              'PERSON', \n",
    "              'PRODUCT', \n",
    "              #'QUANTITY', \n",
    "              #'TIME', \n",
    "              #'WORK_OF_ART',\n",
    "             ]"
   ]
  },
  {
   "cell_type": "code",
   "execution_count": 7,
   "id": "0ad2f9be",
   "metadata": {},
   "outputs": [
    {
     "name": "stderr",
     "output_type": "stream",
     "text": [
      "100%|██████████| 6197/6197 [00:00<00:00, 47462.89it/s]\n",
      "100%|██████████| 6197/6197 [00:00<00:00, 62055.43it/s]\n",
      "100%|██████████| 6197/6197 [00:00<00:00, 67770.89it/s]\n",
      "100%|██████████| 6197/6197 [00:00<00:00, 40656.43it/s]\n",
      "100%|██████████| 6197/6197 [00:00<00:00, 84742.39it/s]\n",
      "100%|██████████| 6197/6197 [00:00<00:00, 95659.43it/s]\n"
     ]
    }
   ],
   "source": [
    "for label in label_list:\n",
    "    df[label] = df[label].progress_apply(lambda x: ast.literal_eval(x))"
   ]
  },
  {
   "cell_type": "markdown",
   "id": "a493aa78",
   "metadata": {},
   "source": [
    "# Create nested dictionaries to store the sentiments of entity group + entity"
   ]
  },
  {
   "cell_type": "code",
   "execution_count": 8,
   "id": "bb5c8cdd",
   "metadata": {},
   "outputs": [],
   "source": [
    "# initialize sentiment dictionary\n",
    "sentiment = {}\n",
    "\n",
    "for label in label_list:\n",
    "    sentiment[label] = {}\n",
    "\n",
    "# loop through dataframe and extract org labels and sentiment scores into sentiment dictionary\n",
    "for i, row in df.iterrows():\n",
    "    # extract sentiment direction and score\n",
    "    direction = row['sentiment'].value\n",
    "    score = row['sentiment'].score\n",
    "    # loop through each label in organizations column\n",
    "    for label in label_list:\n",
    "        for org in row[label]:\n",
    "            # check if org label exists in sentiment dictionary already\n",
    "            if org not in sentiment[label].keys():\n",
    "                # if it doesn't, initialize new entry in dictionary\n",
    "                sentiment[label][org] = {'POSITIVE': [], 'NEGATIVE': []}\n",
    "            # append positive/negative score to respective dictionary entry\n",
    "            sentiment[label][org][direction].append(score)"
   ]
  },
  {
   "cell_type": "code",
   "execution_count": 9,
   "id": "ae25c5f1",
   "metadata": {},
   "outputs": [
    {
     "data": {
      "text/plain": [
       "{'POSITIVE': [0.6441313028335571], 'NEGATIVE': [0.829578697681427]}"
      ]
     },
     "execution_count": 9,
     "metadata": {},
     "output_type": "execute_result"
    }
   ],
   "source": [
    "sentiment['ORG']['ARK']"
   ]
  },
  {
   "cell_type": "code",
   "execution_count": 10,
   "id": "2c450f5d",
   "metadata": {},
   "outputs": [],
   "source": [
    "#sentiment['ORG']['AMC']"
   ]
  },
  {
   "cell_type": "code",
   "execution_count": 11,
   "id": "91921036",
   "metadata": {},
   "outputs": [],
   "source": [
    "#sentiment['ORG']['Tesla']"
   ]
  },
  {
   "cell_type": "markdown",
   "id": "3278f1a8",
   "metadata": {},
   "source": [
    "# We remove any entity with too few (<2) sentiments assigned to it"
   ]
  },
  {
   "cell_type": "code",
   "execution_count": 12,
   "id": "4d415342",
   "metadata": {},
   "outputs": [],
   "source": [
    "sentiment_new = {}\n",
    "\n",
    "for label in label_list:\n",
    "    sentiment_new[label] = {}\n",
    "    \n",
    "for label in label_list:\n",
    "    for key in sentiment[label].keys():\n",
    "        temp = sentiment[label][key]\n",
    "\n",
    "        if len(temp['POSITIVE']) + len(temp['NEGATIVE'])>2:\n",
    "            sentiment_new[label][key] = sentiment[label][key]"
   ]
  },
  {
   "cell_type": "code",
   "execution_count": 13,
   "id": "7b11309f",
   "metadata": {},
   "outputs": [
    {
     "data": {
      "text/plain": [
       "dict_keys(['GPE', 'LOC', 'NORP', 'ORG', 'PERSON', 'PRODUCT'])"
      ]
     },
     "execution_count": 13,
     "metadata": {},
     "output_type": "execute_result"
    }
   ],
   "source": [
    "sentiment_new.keys()"
   ]
  },
  {
   "cell_type": "code",
   "execution_count": 14,
   "id": "af7f9363",
   "metadata": {},
   "outputs": [
    {
     "name": "stdout",
     "output_type": "stream",
     "text": [
      "['ERC20', 'US', 'Norway', 'Shanghai', 'London']\n",
      "['North America', 'Europe', 'Latin America', 'the Middle East', 'Africa']\n",
      "['Japanese', 'North Korean', 'Argentinian', 'Americans', 'Spanish']\n",
      "['ENS', 'Ethereum', 'ETH', 'NASDAQ', 'Merge']\n",
      "['Joe', 'Michael Saylor', 'Axie Infinity', 'GameFi', 'Monero']\n",
      "['MetaMask', 'Twitter', 'Coinbase', 'Metis', 'Merge']\n"
     ]
    }
   ],
   "source": [
    "for label in label_list:\n",
    "    pprint(list(sentiment_new[label].keys())[:5])"
   ]
  },
  {
   "cell_type": "markdown",
   "id": "0be61ed2",
   "metadata": {},
   "source": [
    "# Now, all the entities has at least 2 sentiments assigned to them"
   ]
  },
  {
   "cell_type": "code",
   "execution_count": 15,
   "id": "59f7d3ca",
   "metadata": {},
   "outputs": [
    {
     "name": "stdout",
     "output_type": "stream",
     "text": [
      "\n",
      "########## GPE ##########\n",
      "ERC20 {'POSITIVE': [0.8843597769737244], 'NEGATIVE': [0.9834363460540771, 0.9999165534973145]}\n",
      "Norway {'POSITIVE': [0.9979811310768127, 0.9906777143478394], 'NEGATIVE': [0.9855107069015503]}\n",
      "DeFi {'POSITIVE': [0.8733268976211548, 0.9983347058296204], 'NEGATIVE': [0.666695773601532, 0.9797787666320801]}\n",
      "Lido {'POSITIVE': [], 'NEGATIVE': [0.9863348007202148, 0.9981712102890015, 0.9998668432235718]}\n",
      "\n",
      "########## LOC ##########\n",
      "the Middle East {'POSITIVE': [0.735891580581665, 0.9985452890396118], 'NEGATIVE': [0.9839343428611755, 0.9993708729743958]}\n",
      "Euro {'POSITIVE': [], 'NEGATIVE': [0.9997552037239075, 0.9999831914901733, 0.8026689291000366]}\n",
      "Evergrande {'POSITIVE': [0.9688194990158081], 'NEGATIVE': [0.9999611377716064, 0.9999054670333862]}\n",
      "\n",
      "########## NORP ##########\n",
      "North Korean {'POSITIVE': [], 'NEGATIVE': [0.9998021721839905, 0.666695773601532, 0.9988579750061035]}\n",
      "Argentinian {'POSITIVE': [], 'NEGATIVE': [0.8213438987731934, 0.9625318050384521, 0.9846405982971191, 0.9995937943458557]}\n",
      "Spanish {'POSITIVE': [0.8593184947967529], 'NEGATIVE': [0.9999737739562988, 0.8710151314735413]}\n",
      "\n",
      "########## ORG ##########\n",
      "Merge {'POSITIVE': [], 'NEGATIVE': [0.980816662311554, 0.9956068396568298, 0.9800057411193848, 0.9966502785682678]}\n",
      "\n",
      "########## PERSON ##########\n",
      "Joe {'POSITIVE': [0.9546669721603394], 'NEGATIVE': [0.9835029244422913, 0.9982522130012512]}\n",
      "Michael Saylor {'POSITIVE': [], 'NEGATIVE': [0.9835029244422913, 0.998157799243927, 0.9996541738510132]}\n",
      "GameFi {'POSITIVE': [0.9996840953826904, 0.8903568387031555, 0.9991218447685242], 'NEGATIVE': [0.9999884366989136]}\n",
      "Monero {'POSITIVE': [], 'NEGATIVE': [0.9101151823997498, 0.8837777376174927, 0.9998055100440979, 0.9501764178276062]}\n",
      "Banks {'POSITIVE': [0.9983347058296204], 'NEGATIVE': [0.6594507694244385, 0.9995294809341431]}\n",
      "\n",
      "########## PRODUCT ##########\n",
      "Altura {'POSITIVE': [0.9996840953826904, 0.8903568387031555], 'NEGATIVE': [0.999281108379364]}\n",
      "Chrome {'POSITIVE': [0.9994694590568542, 0.9998010993003845], 'NEGATIVE': [0.9805686473846436, 0.9805686473846436]}\n",
      "West Texas Intermediate {'POSITIVE': [], 'NEGATIVE': [0.9919867515563965, 0.9917248487472534, 0.9983469247817993]}\n"
     ]
    }
   ],
   "source": [
    "for label in label_list:\n",
    "    print('\\n########## ' + label + ' ##########')\n",
    "    for key in list(sentiment_new[label].keys())[:10]:\n",
    "        if (len(sentiment_new[label][key]['POSITIVE']) + len(sentiment_new[label][key]['NEGATIVE'])) < 5:\n",
    "            print(key, sentiment_new[label][key])"
   ]
  },
  {
   "cell_type": "markdown",
   "id": "10874cff",
   "metadata": {},
   "source": [
    "# Now, we want to get the average positive and negative scores for each entity. Additionally, we want to get the overall score of any entity"
   ]
  },
  {
   "cell_type": "code",
   "execution_count": 16,
   "id": "63fa7012",
   "metadata": {},
   "outputs": [],
   "source": [
    "# initialize sentiment list\n",
    "avg_sentiment = {}\n",
    "\n",
    "for label in label_list:\n",
    "    avg_sentiment[label] = []\n",
    "\n",
    "# loop through each organization\n",
    "sentiment_temp = sentiment.copy()\n",
    "\n",
    "for label in label_list:\n",
    "    for org in sentiment_temp[label].keys():\n",
    "        # get number of positive and negative ratings\n",
    "        freq = len(sentiment_temp[label][org]['POSITIVE']) + len(sentiment_temp[label][org]['NEGATIVE'])\n",
    "        for direction in ['POSITIVE', 'NEGATIVE']:\n",
    "            # assign to variable for cleaner code\n",
    "            score = sentiment_temp[label][org][direction]\n",
    "            # if there are no entries, set to 0\n",
    "            if len(score) == 0:\n",
    "                sentiment_temp[label][org][direction] = 0.0\n",
    "            else:\n",
    "                # otherwise calculate total\n",
    "                sentiment_temp[label][org][direction] = sum(score)\n",
    "        # now calculate total amount\n",
    "        total = sentiment_temp[label][org]['POSITIVE'] - sentiment_temp[label][org]['NEGATIVE']\n",
    "        # and the average score\n",
    "        avg = total/freq\n",
    "        # add to sentiment list\n",
    "        avg_sentiment[label].append({\n",
    "            'entity': org,\n",
    "            'positive': sentiment_temp[label][org]['POSITIVE'],\n",
    "            'negative': sentiment_temp[label][org]['NEGATIVE'],\n",
    "            'frequency': freq,\n",
    "            'score': avg\n",
    "        })"
   ]
  },
  {
   "cell_type": "code",
   "execution_count": 29,
   "id": "fad0cfd8",
   "metadata": {},
   "outputs": [
    {
     "data": {
      "text/plain": [
       "{'entity': 'ERC20',\n",
       " 'positive': 0.8843597769737244,\n",
       " 'negative': 1.9833528995513916,\n",
       " 'frequency': 3,\n",
       " 'score': -0.3663310408592224}"
      ]
     },
     "execution_count": 29,
     "metadata": {},
     "output_type": "execute_result"
    }
   ],
   "source": [
    "avg_sentiment['GPE'][0]"
   ]
  },
  {
   "cell_type": "code",
   "execution_count": 18,
   "id": "60e32328",
   "metadata": {},
   "outputs": [],
   "source": [
    "df_sentiment = pd.DataFrame()\n",
    "\n",
    "for label in label_list:\n",
    "    df_sentiment_temp = pd.DataFrame(avg_sentiment[label])\n",
    "    df_sentiment_temp['Label'] = label\n",
    "    df_sentiment = pd.concat([df_sentiment, df_sentiment_temp], axis=0)\n",
    "    \n",
    "df_sentiment.to_csv('./data/processed/reddit_all_sentiment.csv', sep='|', index=False)"
   ]
  },
  {
   "cell_type": "code",
   "execution_count": 19,
   "id": "72201532",
   "metadata": {},
   "outputs": [
    {
     "data": {
      "text/html": [
       "<div>\n",
       "<style scoped>\n",
       "    .dataframe tbody tr th:only-of-type {\n",
       "        vertical-align: middle;\n",
       "    }\n",
       "\n",
       "    .dataframe tbody tr th {\n",
       "        vertical-align: top;\n",
       "    }\n",
       "\n",
       "    .dataframe thead th {\n",
       "        text-align: right;\n",
       "    }\n",
       "</style>\n",
       "<table border=\"1\" class=\"dataframe\">\n",
       "  <thead>\n",
       "    <tr style=\"text-align: right;\">\n",
       "      <th></th>\n",
       "      <th>entity</th>\n",
       "      <th>positive</th>\n",
       "      <th>negative</th>\n",
       "      <th>frequency</th>\n",
       "      <th>score</th>\n",
       "      <th>Label</th>\n",
       "    </tr>\n",
       "  </thead>\n",
       "  <tbody>\n",
       "    <tr>\n",
       "      <th>0</th>\n",
       "      <td>ERC20</td>\n",
       "      <td>0.884360</td>\n",
       "      <td>1.983353</td>\n",
       "      <td>3</td>\n",
       "      <td>-0.366331</td>\n",
       "      <td>GPE</td>\n",
       "    </tr>\n",
       "    <tr>\n",
       "      <th>1</th>\n",
       "      <td>US</td>\n",
       "      <td>79.085721</td>\n",
       "      <td>227.506515</td>\n",
       "      <td>328</td>\n",
       "      <td>-0.452502</td>\n",
       "      <td>GPE</td>\n",
       "    </tr>\n",
       "    <tr>\n",
       "      <th>2</th>\n",
       "      <td>RUSSELL</td>\n",
       "      <td>0.000000</td>\n",
       "      <td>0.980817</td>\n",
       "      <td>1</td>\n",
       "      <td>-0.980817</td>\n",
       "      <td>GPE</td>\n",
       "    </tr>\n",
       "    <tr>\n",
       "      <th>3</th>\n",
       "      <td>Norway</td>\n",
       "      <td>1.988659</td>\n",
       "      <td>0.985511</td>\n",
       "      <td>3</td>\n",
       "      <td>0.334383</td>\n",
       "      <td>GPE</td>\n",
       "    </tr>\n",
       "    <tr>\n",
       "      <th>4</th>\n",
       "      <td>Shanghai</td>\n",
       "      <td>0.998481</td>\n",
       "      <td>4.966918</td>\n",
       "      <td>6</td>\n",
       "      <td>-0.661406</td>\n",
       "      <td>GPE</td>\n",
       "    </tr>\n",
       "  </tbody>\n",
       "</table>\n",
       "</div>"
      ],
      "text/plain": [
       "     entity   positive    negative  frequency     score Label\n",
       "0     ERC20   0.884360    1.983353          3 -0.366331   GPE\n",
       "1        US  79.085721  227.506515        328 -0.452502   GPE\n",
       "2   RUSSELL   0.000000    0.980817          1 -0.980817   GPE\n",
       "3    Norway   1.988659    0.985511          3  0.334383   GPE\n",
       "4  Shanghai   0.998481    4.966918          6 -0.661406   GPE"
      ]
     },
     "execution_count": 19,
     "metadata": {},
     "output_type": "execute_result"
    }
   ],
   "source": [
    "df_sentiment.head(5)"
   ]
  },
  {
   "cell_type": "markdown",
   "id": "c41654b5",
   "metadata": {},
   "source": [
    "# We plot the bar plot of the top few entities with the highest/lowest sentiment scores"
   ]
  },
  {
   "cell_type": "code",
   "execution_count": 25,
   "id": "1268de53",
   "metadata": {},
   "outputs": [
    {
     "data": {
      "image/png": "[encoded data removed]",
      "text/plain": [
       "<Figure size 720x360 with 1 Axes>"
      ]
     },
     "metadata": {
      "needs_background": "light"
     },
     "output_type": "display_data"
    },
    {
     "data": {
      "image/png": "[encoded data removed]",
      "text/plain": [
       "<Figure size 720x360 with 1 Axes>"
      ]
     },
     "metadata": {
      "needs_background": "light"
     },
     "output_type": "display_data"
    },
    {
     "data": {
      "image/png": "[encoded data removed]",
      "text/plain": [
       "<Figure size 720x360 with 1 Axes>"
      ]
     },
     "metadata": {
      "needs_background": "light"
     },
     "output_type": "display_data"
    },
    {
     "data": {
      "image/png": "[encoded data removed]",
      "text/plain": [
       "<Figure size 720x360 with 1 Axes>"
      ]
     },
     "metadata": {
      "needs_background": "light"
     },
     "output_type": "display_data"
    },
    {
     "data": {
      "image/png": "[encoded data removed]",
      "text/plain": [
       "<Figure size 720x360 with 1 Axes>"
      ]
     },
     "metadata": {
      "needs_background": "light"
     },
     "output_type": "display_data"
    },
    {
     "data": {
      "image/png": "[encoded data removed]",
      "text/plain": [
       "<Figure size 720x360 with 1 Axes>"
      ]
     },
     "metadata": {
      "needs_background": "light"
     },
     "output_type": "display_data"
    }
   ],
   "source": [
    "for label in label_list:\n",
    "    df_sentiment = df_sentiment[df_sentiment['frequency'] > 5].reset_index(drop=True)\n",
    "    df_sentiment = df_sentiment.sort_values('score', ascending=True).reset_index(drop=True)\n",
    "\n",
    "    df_temp = df_sentiment[df_sentiment['Label']==label].reset_index(drop=True)   \n",
    "    \n",
    "    if len(df_temp)>20:\n",
    "        head_tail_slice = list(range(10))+list(range(-10,0))\n",
    "        df_temp = df_temp.iloc[head_tail_slice]\n",
    "        \n",
    "    df_temp = df_temp.drop_duplicates()\n",
    "    \n",
    "    df_temp.plot.barh(x='entity', y='score', figsize=(10,5))            \n",
    "    plt.xlabel('Score')\n",
    "    plt.ylabel(label)\n",
    "    plt.xlim([-1,1])"
   ]
  },
  {
   "cell_type": "code",
   "execution_count": null,
   "id": "c055cfbd",
   "metadata": {},
   "outputs": [],
   "source": []
  },
  {
   "cell_type": "code",
   "execution_count": null,
   "id": "1f770785",
   "metadata": {},
   "outputs": [],
   "source": []
  },
  {
   "cell_type": "code",
   "execution_count": null,
   "id": "5a9a8d18",
   "metadata": {},
   "outputs": [],
   "source": []
  },
  {
   "cell_type": "code",
   "execution_count": null,
   "id": "7a44401a",
   "metadata": {},
   "outputs": [],
   "source": []
  },
  {
   "cell_type": "code",
   "execution_count": null,
   "id": "a71abd12",
   "metadata": {},
   "outputs": [],
   "source": []
  },
  {
   "cell_type": "code",
   "execution_count": null,
   "id": "b0c6d7a7",
   "metadata": {},
   "outputs": [],
   "source": []
  },
  {
   "cell_type": "code",
   "execution_count": null,
   "id": "ad20462b",
   "metadata": {},
   "outputs": [],
   "source": []
  },
  {
   "cell_type": "code",
   "execution_count": null,
   "id": "285fc974",
   "metadata": {},
   "outputs": [],
   "source": []
  },
  {
   "cell_type": "code",
   "execution_count": null,
   "id": "cf9192f0",
   "metadata": {},
   "outputs": [],
   "source": []
  }
 ],
 "metadata": {
  "kernelspec": {
   "display_name": "Python 3 (ipykernel)",
   "language": "python",
   "name": "python3"
  },
  "language_info": {
   "codemirror_mode": {
    "name": "ipython",
    "version": 3
   },
   "file_extension": ".py",
   "mimetype": "text/x-python",
   "name": "python",
   "nbconvert_exporter": "python",
   "pygments_lexer": "ipython3",
   "version": "3.9.12"
  }
 },
 "nbformat": 4,
 "nbformat_minor": 5
}
